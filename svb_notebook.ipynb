{
 "cells": [
  {
   "cell_type": "code",
   "execution_count": 1,
   "id": "2c963fc7",
   "metadata": {},
   "outputs": [],
   "source": [
    "from selenium import webdriver\n",
    "from bs4 import BeautifulSoup\n",
    "from selenium.webdriver.common.by import By\n",
    "from selenium.webdriver.chrome.options import Options\n",
    "import math\n",
    "import time\n",
    "import mcfg #в файле лежат функции pg1,pg2 для подключения к postgresql"
   ]
  },
  {
   "cell_type": "code",
   "execution_count": 2,
   "id": "39369a03",
   "metadata": {},
   "outputs": [
    {
     "name": "stdout",
     "output_type": "stream",
     "text": [
      "4/238 done\r"
     ]
    }
   ],
   "source": [
    "articles = 6657 #кол-во объявлений (ориентировочно, меняется ежеминутно)\n",
    "num_on_page = 28 #отображается на одной странице\n",
    "pages = math.ceil(articles/num_on_page) #страниц распарсить\n",
    "\n",
    "def insert_to_pg(content):\n",
    "    '''функция получает на вход текст страницы, забирает оттуда объявления и вносит в 3 колонки:\n",
    "    айди объявления\n",
    "    ссылка на объявление\n",
    "    полный текст html элемента, который можно допарсить\n",
    "    '''\n",
    "    #CREATE TABLE team18.ads_list ( add_id text, add_link text, add_text text);\n",
    "    soup = BeautifulSoup(content, \"html.parser\")\n",
    "    ads = soup.findAll('article') #вытаскиваем по тегу все карточки\n",
    "    for ad in ads:\n",
    "        ad_link = ad.find('a', href=True)['href']\n",
    "        full_ad = str(ad)\n",
    "        ad_id = ad_link.split(r'/')[-2]\n",
    "\n",
    "\n",
    "        sql = f\"\"\"insert into team18.ads_list (add_id,add_link,add_text) \n",
    "        VALUES ('{ad_id}',\n",
    "        '{ad_link}',\n",
    "        '{full_ad.replace(\"'\",'\"')}')\n",
    "\n",
    "        \"\"\"\n",
    "        conn = mcfg.pg2()\n",
    "        cur = conn.cursor()\n",
    "        cur.execute(sql)\n",
    "        conn.commit()\n",
    "        conn.close()\n",
    "\n",
    "\n",
    "\n",
    "for page in range(1,5):    #pages+1):\n",
    "    \n",
    "    link = f'https://www.cian.ru/cat.php?deal_type=rent&engine_version=2&offer_type=flat&p={page}&region=1&room1=1&type=4'\n",
    "    driver = webdriver.Chrome() \n",
    "    driver.get(link)\n",
    "    time.sleep(10)\n",
    "    content = driver.page_source\n",
    "    driver.quit()\n",
    "    insert_to_pg(content)\n",
    "    \n",
    "    print(f\"{page}/{pages} done\",end='\\r')"
   ]
  },
  {
   "cell_type": "code",
   "execution_count": 11,
   "id": "0717a2ad",
   "metadata": {},
   "outputs": [],
   "source": [
    "\n",
    "        \n"
   ]
  },
  {
   "cell_type": "code",
   "execution_count": 28,
   "id": "4985337d",
   "metadata": {},
   "outputs": [],
   "source": []
  },
  {
   "cell_type": "code",
   "execution_count": null,
   "id": "655b680d",
   "metadata": {},
   "outputs": [],
   "source": []
  },
  {
   "cell_type": "code",
   "execution_count": null,
   "id": "b1106004",
   "metadata": {},
   "outputs": [],
   "source": []
  }
 ],
 "metadata": {
  "kernelspec": {
   "display_name": "Python 3 (ipykernel)",
   "language": "python",
   "name": "python3"
  },
  "language_info": {
   "codemirror_mode": {
    "name": "ipython",
    "version": 3
   },
   "file_extension": ".py",
   "mimetype": "text/x-python",
   "name": "python",
   "nbconvert_exporter": "python",
   "pygments_lexer": "ipython3",
   "version": "3.10.5"
  }
 },
 "nbformat": 4,
 "nbformat_minor": 5
}
